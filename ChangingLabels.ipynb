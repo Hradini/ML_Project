{
  "nbformat": 4,
  "nbformat_minor": 0,
  "metadata": {
    "colab": {
      "name": "ChangingLabels.ipynb",
      "provenance": [],
      "authorship_tag": "ABX9TyOoQxeX6pp5mal/ZeJ0c7qw",
      "include_colab_link": true
    },
    "kernelspec": {
      "name": "python3",
      "display_name": "Python 3"
    }
  },
  "cells": [
    {
      "cell_type": "markdown",
      "metadata": {
        "id": "view-in-github",
        "colab_type": "text"
      },
      "source": [
        "<a href=\"https://colab.research.google.com/github/Hradini/ML_Project/blob/main/ChangingLabels.ipynb\" target=\"_parent\"><img src=\"https://colab.research.google.com/assets/colab-badge.svg\" alt=\"Open In Colab\"/></a>"
      ]
    },
    {
      "cell_type": "markdown",
      "metadata": {
        "id": "kEkom737evNl"
      },
      "source": [
        "Given a mask with different colors (black, yellow , white) representing different labels, generates an image where each label is integer (0,1,2)"
      ]
    },
    {
      "cell_type": "code",
      "metadata": {
        "id": "92xu4W-sZzYM"
      },
      "source": [
        "#Mounting drive to access files\n",
        "from google.colab import drive\n",
        "drive.mount('/content/gdrive')"
      ],
      "execution_count": null,
      "outputs": []
    },
    {
      "cell_type": "code",
      "metadata": {
        "id": "_Ml3qks8aBq-"
      },
      "source": [
        "#unzipping the relavant files\n",
        "!unzip '/content/gdrive/MyDrive/ML Datasets/FullDataset_20_11_28/3LabelMasks.zip'\n",
        "!unzip '/content/gdrive/MyDrive/ML Datasets/images.zip'"
      ],
      "execution_count": null,
      "outputs": []
    },
    {
      "cell_type": "code",
      "metadata": {
        "id": "SMEI0bwXaHUr"
      },
      "source": [
        "import PIL\n",
        "import numpy as np\n",
        "from PIL import Image\n",
        "from PIL import ImageOps\n",
        "import os"
      ],
      "execution_count": null,
      "outputs": []
    },
    {
      "cell_type": "code",
      "metadata": {
        "id": "YkLNoeU7aTRu"
      },
      "source": [
        "target_dir = \"/content/3LabelMasks\"\n",
        "\n",
        "#creating list of paths to all masks\n",
        "target_img_paths = sorted(\n",
        "    [\n",
        "        os.path.join(target_dir, fname)\n",
        "        for fname in os.listdir(target_dir)\n",
        "        if fname.endswith(\".png\")\n",
        "    ]\n",
        ")\n",
        "# directory to save the modified masks\n",
        "output = '/content/CN3labelMasks'"
      ],
      "execution_count": null,
      "outputs": []
    },
    {
      "cell_type": "code",
      "metadata": {
        "id": "-voOswFEaaHx"
      },
      "source": [
        "for path in target_img_paths:\n",
        "  name = os.path.basename(path)\n",
        "  filename = name.replace(\"Label\", \"Mask\")\n",
        "  out_path = os.path.join(output, filename)\n",
        "  #creating a PIL image instance\n",
        "  image = Image.open(path) \n",
        "  #converting to grayscale\n",
        "  gray_image = ImageOps.grayscale(image)\n",
        "  #converting to numpy array\n",
        "  data = np.asarray(gray_image)\n",
        "  #replacing colour 1 as 1\n",
        "  mod_data1 = np.where(data == 226, 1, data)\n",
        "  #replacing colour 2 as 2\n",
        "  mod_data2 = np.where(mod_data1 == 255, 2, mod_data1)\n",
        "  #converting array back to image\n",
        "  image2 = Image.fromarray(mod_data2)\n",
        "  #saving image\n",
        "  image2.save(out_path)"
      ],
      "execution_count": null,
      "outputs": []
    },
    {
      "cell_type": "code",
      "metadata": {
        "id": "s_q9FtUSacjq"
      },
      "source": [
        "#zips the folder of modified masks. Needs to be downloaded at end of session\n",
        "!zip -r \"/content/CN3labelMasks.zip\" \"/content/CN3labelMasks\""
      ],
      "execution_count": null,
      "outputs": []
    }
  ]
}